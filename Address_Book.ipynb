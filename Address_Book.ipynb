{
 "cells": [
  {
   "cell_type": "code",
   "execution_count": null,
   "metadata": {},
   "outputs": [],
   "source": [
    "from collections import Counter"
   ]
  },
  {
   "cell_type": "code",
   "execution_count": null,
   "metadata": {},
   "outputs": [],
   "source": [
    "#myList=[%sql  SELECT Province,City,Postal Code FROM User_Details ]\n",
    "myList=[\"Johannesburg\",\"Durban\",\"Limpopo\"]#for now we gonna pretend to use this list as we are facing issues with connecting to sql\n",
    "myList1=[]"
   ]
  },
  {
   "cell_type": "code",
   "execution_count": null,
   "metadata": {},
   "outputs": [],
   "source": [
    "#keeps prompting a user to insert a value as long as myList list is not equal to zero\n",
    "while myList !=0:\n",
    "    search_ = input(\"Please enter your city: \")"
   ]
  },
  {
   "cell_type": "code",
   "execution_count": null,
   "metadata": {},
   "outputs": [],
   "source": [
    "\n",
    " "
   ]
  }
 ],
 "metadata": {
  "language_info": {
   "name": "python"
  },
  "orig_nbformat": 4
 },
 "nbformat": 4,
 "nbformat_minor": 2
}
