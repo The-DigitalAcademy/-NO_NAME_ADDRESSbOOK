{
 "cells": [
  {
   "cell_type": "code",
   "execution_count": null,
   "metadata": {},
   "outputs": [],
   "source": [
    "from collections import Counter"
   ]
  },
  {
   "cell_type": "code",
   "execution_count": null,
   "metadata": {},
   "outputs": [],
   "source": [
    "#myList=[%sql  SELECT Province,City,Postal Code FROM User_Details ]\n",
    "myList=[\"Johannesburg\",\"Durban\",\"Limpopo\"]#for now we gonna pretend to use this list as we are facing issues with connecting to sql\n",
    "myList1=[]"
   ]
  }
 ],
 "metadata": {
  "language_info": {
   "name": "python"
  },
  "orig_nbformat": 4
 },
 "nbformat": 4,
 "nbformat_minor": 2
}
